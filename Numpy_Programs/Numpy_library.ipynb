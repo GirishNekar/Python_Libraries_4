{
 "cells": [
  {
   "cell_type": "code",
   "execution_count": 3,
   "metadata": {},
   "outputs": [],
   "source": [
    "import numpy as np"
   ]
  },
  {
   "cell_type": "markdown",
   "metadata": {},
   "source": [
    "\"\"\"<br>\n",
    "@Author: Girish <br>\n",
    "@Date: 2024-08-06 <br>\n",
    "@Last Modified by: Girish <br>\n",
    "@Last Modified time: 2024-08-06 <br>\n",
    "@Title: Numpy Library Problems <br>\n",
    "\"\"\""
   ]
  },
  {
   "cell_type": "markdown",
   "metadata": {},
   "source": [
    "1.Write a Python program to convert a list of numeric value into a one-dimensional\n",
    "NumPy array."
   ]
  },
  {
   "cell_type": "code",
   "execution_count": 4,
   "metadata": {},
   "outputs": [
    {
     "name": "stdout",
     "output_type": "stream",
     "text": [
      "[1, 2, 3, 4, 5, 6, 7, 8, 9, 10]\n",
      "<class 'list'>\n",
      "[ 1  2  3  4  5  6  7  8  9 10]\n",
      "<class 'numpy.ndarray'>\n"
     ]
    }
   ],
   "source": [
    "\n",
    "def convert_list_to_array(mylist):\n",
    "    \n",
    "        \n",
    "    \"\"\"\n",
    "    Converts a given list to a numpy array and prints it along with its type.\n",
    "    \n",
    "    Parameters:\n",
    "        mylist (list): The list to be converted to a numpy array.\n",
    "    \n",
    "    Returns:\n",
    "        None\n",
    "    \"\"\"\n",
    "    \n",
    "\n",
    "    converted_list = np.array(mylist)\n",
    "    print(converted_list)\n",
    "    print(type(converted_list))\n",
    "\n",
    "\n",
    "def main():\n",
    "\n",
    "    mylist = []\n",
    "    for i in range(1, 11):\n",
    "        mylist.append(i)\n",
    "    print(mylist)\n",
    "    print(type(mylist))\n",
    "    convert_list_to_array(mylist)\n",
    "\n",
    "if __name__ == \"__main__\":\n",
    "    main()\n"
   ]
  },
  {
   "cell_type": "markdown",
   "metadata": {},
   "source": [
    "2. Create a 3x3 matrix with values ranging from 2 to 10.\n",
    "Expected Output:"
   ]
  },
  {
   "cell_type": "code",
   "execution_count": 5,
   "metadata": {},
   "outputs": [
    {
     "name": "stdout",
     "output_type": "stream",
     "text": [
      "The number of elements does not match the specified shape.\n"
     ]
    }
   ],
   "source": [
    "\n",
    "\n",
    "def create_and_reshape_2d_array(start, end, rows, cols):\n",
    "    \n",
    "    \n",
    "    \"\"\"\n",
    "    Description: Creates a 1D numpy array of integers from start to end (exclusive) and reshapes it into a 2D array.\n",
    "    \n",
    "    Parameters:\n",
    "        start (int): The starting value of the range.\n",
    "        end (int): The ending value of the range (exclusive).\n",
    "        rows (int): The number of rows in the 2D array.\n",
    "        cols (int): The number of columns in the 2D array.\n",
    "    \n",
    "    Returns:\n",
    "        np.ndarray: The created and reshaped 2D numpy array.\n",
    "      \n",
    "    \"\"\"\n",
    "     \n",
    "    array_1d = np.arange(start, end)\n",
    "    if len(array_1d) != rows * cols:\n",
    "        raise ValueError(\"The number of elements does not match the specified shape.\")\n",
    "    return array_1d.reshape(rows, cols)\n",
    "\n",
    "def main():\n",
    "\n",
    "    start = int(input(\"Enter the start of the range: \"))\n",
    "    end = int(input(\"Enter the end of the range: \"))\n",
    "    rows = int(input(\"Enter the number of rows: \"))\n",
    "    cols = int(input(\"Enter the number of columns: \"))\n",
    "    \n",
    "    try:\n",
    "        array_2d = create_and_reshape_2d_array(start, end, rows, cols)\n",
    "        print(\"1D Array:\")\n",
    "        print(np.arange(start, end))\n",
    "        print(\"Reshaped 2D Array:\")\n",
    "        print(array_2d)\n",
    "    except ValueError as ve:\n",
    "        print(ve)\n",
    "\n",
    "if __name__ == \"__main__\":\n",
    "    main()\n"
   ]
  },
  {
   "cell_type": "markdown",
   "metadata": {},
   "source": [
    "3. Write a Python program to create a null vector of size 10 and update sixth value to 11.\n"
   ]
  },
  {
   "cell_type": "code",
   "execution_count": 32,
   "metadata": {},
   "outputs": [
    {
     "name": "stdout",
     "output_type": "stream",
     "text": [
      "Initial null vector:\n",
      "[0. 0. 0. 0. 0. 0. 0. 0. 0. 0.]\n",
      "Updated null vector with the 6th element set to 11:\n",
      "[ 0.  0.  0.  0.  0.  0. 11.  0.  0.  0.]\n"
     ]
    }
   ],
   "source": [
    "\n",
    "def create_null_vector_and_update():\n",
    "      \n",
    "    \"\"\"\n",
    "    Description: Creates a null vector (1D array of zeros) of length 10 and updates the 7th element to 11.\n",
    "    \n",
    "    Parameters:\n",
    "        None\n",
    "    \n",
    "    Returns:\n",
    "        np.ndarray: The updated null vector with the 7th element set to 11.\n",
    "    \"\"\"\n",
    "    \n",
    "    \n",
    "    null_vector = np.zeros(10)\n",
    "    print(\"Initial null vector:\")\n",
    "    print(null_vector)\n",
    "    null_vector[6] = 11\n",
    "    print(\"Updated null vector with the 6th element set to 11:\")\n",
    "    print(null_vector)\n",
    "    return null_vector\n",
    "\n",
    "\n",
    "def main():\n",
    "\n",
    "    create_null_vector_and_update()\n",
    "\n",
    "if __name__ == \"__main__\":\n",
    "    main()\n"
   ]
  },
  {
   "cell_type": "markdown",
   "metadata": {},
   "source": [
    "4.Write a Python program to reverse an array (first element becomes last)."
   ]
  },
  {
   "cell_type": "code",
   "execution_count": 7,
   "metadata": {},
   "outputs": [
    {
     "name": "stdout",
     "output_type": "stream",
     "text": [
      "Original array: [ 1  2  3  4  5  6  7  8  9 10]\n",
      "Reversed array: [10  9  8  7  6  5  4  3  2  1]\n"
     ]
    }
   ],
   "source": [
    "\n",
    "def reverse_array(array):\n",
    "    \n",
    "    \n",
    "    \"\"\"\n",
    "    Description: Reverses the given numpy array.\n",
    "    \n",
    "    Parameters:\n",
    "        array (np.ndarray): The numpy array to be reversed.\n",
    "    \n",
    "    Returns:\n",
    "        np.ndarray: The reversed numpy array.\n",
    "    \"\"\"\n",
    "    \n",
    "    \n",
    "    reversed_array = np.array(list(array)[::-1])\n",
    "    return reversed_array\n",
    "\n",
    "\n",
    "\n",
    "def main():\n",
    "    \n",
    "    array = np.array([1, 2, 3, 4, 5, 6, 7, 8, 9, 10])\n",
    "    reversed_array = reverse_array(array)\n",
    "    print(\"Original array:\", array)\n",
    "    print(\"Reversed array:\", reversed_array)\n",
    "\n",
    "if __name__ == \"__main__\":\n",
    "    main()\n"
   ]
  },
  {
   "cell_type": "markdown",
   "metadata": {},
   "source": [
    "Create a 2D Array with 1 on the Border and 0 Inside\n"
   ]
  },
  {
   "cell_type": "code",
   "execution_count": 8,
   "metadata": {},
   "outputs": [
    {
     "name": "stdout",
     "output_type": "stream",
     "text": [
      "2D Array with 1 on the border and 0 inside:\n",
      "[1, 1, 1, 1, 1]\n",
      "[1, 0, 0, 0, 1]\n",
      "[1, 0, 0, 0, 1]\n",
      "[1, 0, 0, 0, 1]\n",
      "[1, 1, 1, 1, 1]\n"
     ]
    }
   ],
   "source": [
    "\n",
    "def create_2d_border_array(rows, cols):\n",
    "    \"\"\"\n",
    "    Description:  Creates a 2D list with 1 on the border and 0 inside.\n",
    "    \n",
    "    Parameters:\n",
    "        rows (int): The number of rows in the array.\n",
    "        cols (int): The number of columns in the array.\n",
    "    \n",
    "    Returns:\n",
    "        list: The created 2D list with 1 on the border and 0 inside.\n",
    "    \"\"\"\n",
    "    array = [[0 for index in range(cols)] for index in range(rows)]\n",
    "    \n",
    "    for i in range(rows):\n",
    "        for j in range(cols):\n",
    "            if i == 0 or i == rows - 1 or j == 0 or j == cols - 1:\n",
    "                array[i][j] = 1\n",
    "    \n",
    "    return array\n",
    "\n",
    "def main():\n",
    "\n",
    "    rows = int(input(\"Enter the number of rows: \"))\n",
    "    cols = int(input(\"Enter the number of columns: \"))\n",
    "    \n",
    "    border_array = create_2d_border_array(rows, cols)\n",
    "    print(\"2D Array with 1 on the border and 0 inside:\")\n",
    "    for row in border_array:\n",
    "        print(row)\n",
    "\n",
    "if __name__ == \"__main__\":\n",
    "    main()\n"
   ]
  },
  {
   "cell_type": "markdown",
   "metadata": {},
   "source": [
    "5. Write a Python program to create a 2d array with 1 on the border and 0 inside."
   ]
  },
  {
   "cell_type": "code",
   "execution_count": 9,
   "metadata": {},
   "outputs": [
    {
     "name": "stdout",
     "output_type": "stream",
     "text": [
      "2D Array with 0 on the border and 1 inside:\n",
      "[0, 0, 0, 0, 0]\n",
      "[0, 1, 1, 1, 0]\n",
      "[0, 1, 1, 1, 0]\n",
      "[0, 1, 1, 1, 0]\n",
      "[0, 0, 0, 0, 0]\n"
     ]
    }
   ],
   "source": [
    "\n",
    "\n",
    "def create_2d_border_array(rows, cols):\n",
    "    \"\"\"\n",
    "    Description:  Creates a 2D list with 0 on the border and 1 inside.\n",
    "    \n",
    "    Parameters:\n",
    "        rows (int): The number of rows in the array.\n",
    "        cols (int): The number of columns in the array.\n",
    "    \n",
    "    Returns:\n",
    "        list: The created 2D list with 0 on the border and 1 inside.\n",
    "    \"\"\"\n",
    " \n",
    "    array = [[0 for index in range(cols)] for index in range(rows)]\n",
    "    \n",
    "    \n",
    "    for i in range(1, rows - 1):\n",
    "        for j in range(1, cols - 1):\n",
    "            array[i][j] = 1\n",
    "    \n",
    "    return array\n",
    "\n",
    "def main():\n",
    "    rows = int(input(\"Enter the number of rows: \"))\n",
    "    cols = int(input(\"Enter the number of columns: \"))\n",
    "    \n",
    "    border_array = create_2d_border_array(rows, cols)\n",
    "    print(\"2D Array with 0 on the border and 1 inside:\")\n",
    "    for row in border_array:\n",
    "        print(row)\n",
    "\n",
    "if __name__ == \"__main__\":\n",
    "    main()\n"
   ]
  },
  {
   "cell_type": "markdown",
   "metadata": {},
   "source": [
    "7. Write a Python program to create a 8x8 matrix and fill it with a checkerboard pattern."
   ]
  },
  {
   "cell_type": "code",
   "execution_count": 10,
   "metadata": {},
   "outputs": [
    {
     "name": "stdout",
     "output_type": "stream",
     "text": [
      "[[0 1 0 1 0 1 0 1]\n",
      " [1 0 1 0 1 0 1 0]\n",
      " [0 1 0 1 0 1 0 1]\n",
      " [1 0 1 0 1 0 1 0]\n",
      " [0 1 0 1 0 1 0 1]\n",
      " [1 0 1 0 1 0 1 0]\n",
      " [0 1 0 1 0 1 0 1]\n",
      " [1 0 1 0 1 0 1 0]]\n"
     ]
    }
   ],
   "source": [
    "\n",
    "\n",
    "def check_board_creation(mylist):\n",
    "    \n",
    "    \n",
    "    \"\"\"\n",
    "    Description:\n",
    "        Converts a flat list to an 8x8 numpy array and prints it.\n",
    "    \n",
    "    Parameters:\n",
    "        mylist (list): List of 64 elements to be reshaped into an 8x8 array.\n",
    "    \n",
    "    Returns:\n",
    "        None\n",
    "    \"\"\"\n",
    "    \n",
    "    \n",
    "    array = np.array(mylist)\n",
    "    check_board = array.reshape(8, 8)\n",
    "    print(check_board)\n",
    "\n",
    "\n",
    "\n",
    "def main():\n",
    "    \n",
    "    mylist = []\n",
    "    for i in range(8):\n",
    "        row = [0, 1] * 4  \n",
    "        if i % 2 == 1:  \n",
    "            row = row[::-1]  \n",
    "        mylist.extend(row)\n",
    "    \n",
    "    check_board_creation(mylist)\n",
    "\n",
    "if __name__ == \"__main__\":\n",
    "    main()"
   ]
  },
  {
   "cell_type": "markdown",
   "metadata": {},
   "source": [
    "8. Write a Python program to convert a list and tuple into arrays.\n"
   ]
  },
  {
   "cell_type": "code",
   "execution_count": 11,
   "metadata": {},
   "outputs": [
    {
     "name": "stdout",
     "output_type": "stream",
     "text": [
      "[1, 2, 3, 4, 5, 6, 7, 8, 9, 10]\n",
      "[ 1  2  3  4  5  6  7  8  9 10]\n",
      "(11, 12, 13, 14, 15, 16, 17, 18, 19)\n",
      "[11 12 13 14 15 16 17 18 19]\n"
     ]
    }
   ],
   "source": [
    "\n",
    "def tuple_to_array(mytuple):\n",
    "    \n",
    "    \"\"\"\n",
    "    Description :\n",
    "        Converts Tuple to numpy array\n",
    "        \n",
    "    Prameter : \n",
    "        mytuple (tuple): Tuple to be converted\n",
    "    \n",
    "    Return :\n",
    "        array : numpy array\n",
    "        \n",
    "    \"\"\"\n",
    "    \n",
    "    return(np.array(mytuple))\n",
    "\n",
    "\n",
    "\n",
    "def list_to_array(mylist):\n",
    "\n",
    "    \"\"\"\n",
    "    Description :\n",
    "        Converts Tuple to numpy array\n",
    "        \n",
    "    Prameter : \n",
    "        mylist (list): Tuple to be converted\n",
    "    \n",
    "    Return :\n",
    "        array : \n",
    "            numpy array\n",
    "        \n",
    "    \"\"\"\n",
    "    \n",
    "    return(np.array(mylist))\n",
    "\n",
    "\n",
    "def main():\n",
    "    \n",
    "    mylist = [1,2,3,4,5,6,7,8,9,10]\n",
    "    mytuple = (11,12,13,14,15,16,17,18,19)\n",
    "    print(mylist)\n",
    "    print(list_to_array(mylist))\n",
    "    print(mytuple)\n",
    "    print(tuple_to_array(mytuple))\n",
    "    \n",
    "\n",
    "if __name__ == \"__main__\":\n",
    "    main()"
   ]
  },
  {
   "cell_type": "markdown",
   "metadata": {},
   "source": [
    "9. Write a Python program to append values to the end of an array"
   ]
  },
  {
   "cell_type": "code",
   "execution_count": 12,
   "metadata": {},
   "outputs": [
    {
     "name": "stdout",
     "output_type": "stream",
     "text": [
      "Original Array: [1, 2, 3, 4, 5]\n",
      "[ 1  2  3  4  5  6  7  8  9 10]\n",
      "New Array after appending: None\n"
     ]
    }
   ],
   "source": [
    "\n",
    "\n",
    "def append_to_array(array , elements):\n",
    "    \n",
    "    \n",
    "    \"\"\"\n",
    "    Description :\n",
    "        Appends elements to a NumPy array.\n",
    "\n",
    "    Parameters:\n",
    "        array (np.ndarray): The original NumPy array.\n",
    "        elements (list or np.ndarray): The elements to append to the array.\n",
    "\n",
    "    Returns:\n",
    "        np.ndarray: A new NumPy array with the elements appended.\n",
    "    \"\"\"\n",
    "    \n",
    "    \n",
    "    x = np.append(array, elements)\n",
    "    print(x)\n",
    "\n",
    "\n",
    "def main():\n",
    "    original_array = [1, 2, 3, 4, 5]\n",
    "    print(\"Original Array:\", original_array)\n",
    "    \n",
    "    elements_to_append = [6,7,8,9,10]\n",
    "    \n",
    "    new_array = append_to_array(original_array, elements_to_append)\n",
    "    \n",
    "    print(\"New Array after appending:\", new_array)\n",
    "\n",
    "\n",
    "if __name__ == \"__main__\":\n",
    "    main()\n"
   ]
  },
  {
   "cell_type": "markdown",
   "metadata": {},
   "source": [
    "10. Write a Python program to find the real and imaginary parts of an array of complex\n",
    "numbers."
   ]
  },
  {
   "cell_type": "code",
   "execution_count": 13,
   "metadata": {},
   "outputs": [
    {
     "name": "stdout",
     "output_type": "stream",
     "text": [
      "Real Parts: [1.         0.70710678]\n",
      "Imaginary Parts: [0.         0.70710678]\n"
     ]
    }
   ],
   "source": [
    "\n",
    "def process_complex_array(mylist):\n",
    "    \n",
    "    \n",
    "    \"\"\"\n",
    "    Processes a list of complex numbers to extract their real and imaginary parts.\n",
    "\n",
    "    Parameters:\n",
    "        mylist (list): A list of complex numbers.\n",
    "\n",
    "    Returns:\n",
    "        tuple: A tuple containing two NumPy arrays:\n",
    "            - The real parts of the complex numbers.\n",
    "            - The imaginary parts of the complex numbers.\n",
    "    \"\"\"\n",
    "    \n",
    "    \n",
    "    array = np.array(mylist)\n",
    "    real_parts = np.real(array)\n",
    "    imaginary_parts = np.imag(array)\n",
    "    return real_parts, imaginary_parts\n",
    "\n",
    "def main():\n",
    "\n",
    "    mylist = [1.00000000 + 0.j, 0.70710678 + 0.70710678j]\n",
    "    real_parts, imaginary_parts = process_complex_array(mylist)\n",
    "    \n",
    "    print(\"Real Parts:\", real_parts)\n",
    "    print(\"Imaginary Parts:\", imaginary_parts)\n",
    "\n",
    "if __name__ == \"__main__\":\n",
    "    main()\n"
   ]
  },
  {
   "cell_type": "markdown",
   "metadata": {},
   "source": [
    "11. Write a Python program to find the number of elements of an array, length of one\n",
    "array element in bytes and total bytes consumed by the elements."
   ]
  },
  {
   "cell_type": "code",
   "execution_count": 14,
   "metadata": {},
   "outputs": [
    {
     "name": "stdout",
     "output_type": "stream",
     "text": [
      "Number of elements: 5\n",
      "Length of one element in bytes: 8\n",
      "Total bytes consumed by the elements: 40\n"
     ]
    }
   ],
   "source": [
    "\n",
    "\n",
    "def array_statistics(arr):\n",
    "    \n",
    "    \n",
    "    \"\"\"\n",
    "    Calculates the number of elements, length of one element in bytes, and total bytes consumed by the elements of a NumPy array.\n",
    "\n",
    "    Parameters:\n",
    "        arr (np.ndarray): The NumPy array to analyze.\n",
    "\n",
    "    Returns:\n",
    "        tuple: A tuple containing:\n",
    "            - The number of elements in the array.\n",
    "            - The length of one array element in bytes.\n",
    "            - The total bytes consumed by the elements of the array.\n",
    "    \"\"\"\n",
    "    \n",
    "    \n",
    "    num_elements = arr.size\n",
    "    element_size = arr.itemsize\n",
    "    total_size = arr.nbytes\n",
    "\n",
    "    return num_elements, element_size, total_size\n",
    "\n",
    "\n",
    "\n",
    "def main():\n",
    "\n",
    "   \n",
    "    array = np.array([1, 2, 3, 4, 5], dtype=np.int64)\n",
    "\n",
    "  \n",
    "    num_elements, element_size, total_size = array_statistics(array)\n",
    "    \n",
    "  \n",
    "    print(f\"Number of elements: {num_elements}\")\n",
    "    print(f\"Length of one element in bytes: {element_size}\")\n",
    "    print(f\"Total bytes consumed by the elements: {total_size}\")\n",
    "\n",
    "if __name__ == \"__main__\":\n",
    "    main()\n"
   ]
  },
  {
   "cell_type": "markdown",
   "metadata": {},
   "source": [
    "12. Write a Python program to find common values between two arrays.\""
   ]
  },
  {
   "cell_type": "code",
   "execution_count": 15,
   "metadata": {},
   "outputs": [
    {
     "name": "stdout",
     "output_type": "stream",
     "text": [
      "Array1: [ 0 10 20 40 60]\n",
      "Array2: [10 30 40]\n",
      "Common values between two arrays:\n",
      "[10 40]\n"
     ]
    }
   ],
   "source": [
    "\n",
    "def find_common_values(array1, array2):\n",
    "    \n",
    "    \n",
    "    \"\"\"\n",
    "    Finds common values between two numpy arrays.\n",
    "\n",
    "    Parameters:\n",
    "        array1 (numpy.ndarray): The first array.\n",
    "        array2 (numpy.ndarray): The second array.\n",
    "\n",
    "    Returns:\n",
    "        numpy.ndarray: An array containing the common values.\n",
    "    \"\"\"\n",
    "    \n",
    "    \n",
    "    common_values = []\n",
    "    for value in array1:\n",
    "        if value in array2 and value not in common_values:\n",
    "            common_values.append(value)\n",
    "    return np.array(common_values)\n",
    "\n",
    "\n",
    "\n",
    "def main():\n",
    "\n",
    "    array1 = np.array([0, 10, 20, 40, 60])\n",
    "    array2 = np.array([10, 30, 40])\n",
    "\n",
    "    \n",
    "    common_values = find_common_values(array1, array2)\n",
    "\n",
    "    print(f\"Array1: {array1}\")\n",
    "    print(f\"Array2: {array2}\")\n",
    "    print(\"Common values between two arrays:\")\n",
    "    print(common_values)\n",
    "\n",
    "if __name__ == \"__main__\":\n",
    "    main()\n"
   ]
  },
  {
   "cell_type": "markdown",
   "metadata": {},
   "source": [
    "13. Write a Python program to find the set difference of two arrays. The set difference\n",
    "will return the sorted, unique values in array1 that are not in array2."
   ]
  },
  {
   "cell_type": "code",
   "execution_count": 16,
   "metadata": {},
   "outputs": [
    {
     "name": "stdout",
     "output_type": "stream",
     "text": [
      "Array1: [ 0 10 20 40 60]\n",
      "Array2: [10 30 40]\n",
      "Set difference of array1 and array2 (sorted, unique values in array1 not in array2):\n",
      "[ 0 20 60]\n"
     ]
    }
   ],
   "source": [
    "\n",
    "\n",
    "def find_set_difference(array1, array2):\n",
    "    \n",
    "    \n",
    "    \"\"\"\n",
    "    Finds the set difference of two numpy arrays using built-in functions.\n",
    "\n",
    "    Parameters:\n",
    "        array1 (numpy.ndarray): The first array.\n",
    "        array2 (numpy.ndarray): The second array.\n",
    "\n",
    "    Returns:\n",
    "        numpy.ndarray: A sorted array containing the unique values in array1 that are not in array2.\n",
    "    \"\"\"\n",
    "    \n",
    "    \n",
    "    difference = np.setdiff1d(array1, array2)\n",
    "    return difference\n",
    "\n",
    "def main():\n",
    "\n",
    "    array1 = np.array([0, 10, 20, 40, 60])\n",
    "    array2 = np.array([10, 30, 40])\n",
    "\n",
    "    set_difference = find_set_difference(array1, array2)\n",
    "\n",
    "    print(f\"Array1: {array1}\")\n",
    "    print(f\"Array2: {array2}\")\n",
    "    print(\"Set difference of array1 and array2 (sorted, unique values in array1 not in array2):\")\n",
    "    print(set_difference)\n",
    "\n",
    "if __name__ == \"__main__\":\n",
    "    main()\n",
    "\n"
   ]
  },
  {
   "cell_type": "markdown",
   "metadata": {},
   "source": [
    "14. Write a Python program to find the set exclusive-or of two arrays. Set exclusive-or\n",
    "will return the sorted, unique values that are in only one (not both) of the input arrays."
   ]
  },
  {
   "cell_type": "code",
   "execution_count": 17,
   "metadata": {},
   "outputs": [
    {
     "name": "stdout",
     "output_type": "stream",
     "text": [
      "Array1: [ 0 10 20 40 60]\n",
      "Array2: [10 30 40]\n",
      "Set Exclusive OR of array1 and array2 :\n",
      "[ 0 20 30 60]\n"
     ]
    }
   ],
   "source": [
    "\n",
    "\n",
    "def find_set_xor(array1, array2):\n",
    "    \n",
    "    \n",
    "    \"\"\"\n",
    "    Finds the set difference of two numpy arrays using built-in functions.\n",
    "\n",
    "    Parameters:\n",
    "        array1 (numpy.ndarray): The first array.\n",
    "        array2 (numpy.ndarray): The second array.\n",
    "\n",
    "    Returns:\n",
    "        numpy.ndarray: A sorted array containing the unique values in array1 that are not in array2.\n",
    "    \"\"\"\n",
    "    \n",
    "    \n",
    "    ex_or = np.setxor1d(array1, array2)\n",
    "    return ex_or\n",
    "\n",
    "def main():\n",
    "\n",
    "    array1 = np.array([0, 10, 20, 40, 60])\n",
    "    array2 = np.array([10, 30, 40])\n",
    "\n",
    "    ex_or = find_set_xor(array1, array2)\n",
    "\n",
    "    print(f\"Array1: {array1}\")\n",
    "    print(f\"Array2: {array2}\")\n",
    "    print(\"Set Exclusive OR of array1 and array2 :\")\n",
    "    print(ex_or)\n",
    "\n",
    "if __name__ == \"__main__\":\n",
    "    main()\n",
    "\n"
   ]
  },
  {
   "cell_type": "markdown",
   "metadata": {},
   "source": [
    "15. Write a Python program to save a NumPy array to a text file."
   ]
  },
  {
   "cell_type": "code",
   "execution_count": 18,
   "metadata": {},
   "outputs": [
    {
     "name": "stdout",
     "output_type": "stream",
     "text": [
      "Array saved to output.txt\n"
     ]
    },
    {
     "data": {
      "text/plain": [
       "<_io.TextIOWrapper name='output.txt' mode='r' encoding='utf-8'>"
      ]
     },
     "execution_count": 18,
     "metadata": {},
     "output_type": "execute_result"
    }
   ],
   "source": [
    "\n",
    "\n",
    "def save_array_to_text_file(array, filename):\n",
    "    \"\"\"\n",
    "    Saves a NumPy array to a text file.\n",
    "\n",
    "    Parameters:\n",
    "        array (numpy.ndarray): The NumPy array to save.\n",
    "        filename (str): The name of the file to save the array to.\n",
    "    \"\"\"\n",
    "    np.savetxt(filename, array, fmt='%d')\n",
    "    print(f\"Array saved to {filename}\")\n",
    "   \n",
    "   \n",
    "\n",
    "def main():\n",
    "\n",
    "    array = np.array([1, 2, 3, 4, 5, 6, 7, 8, 9, 10])\n",
    "\n",
    "\n",
    "    filename = \"output.txt\"\n",
    "\n",
    "   \n",
    "    save_array_to_text_file(array, filename)\n",
    "    \n",
    "\n",
    "if __name__ == \"__main__\":\n",
    "    main()\n",
    "open('output.txt', mode = 'r',encoding='utf-8')"
   ]
  },
  {
   "cell_type": "markdown",
   "metadata": {},
   "source": [
    "16. Write a Python program to create a contiguous flattened array."
   ]
  },
  {
   "cell_type": "code",
   "execution_count": 19,
   "metadata": {},
   "outputs": [
    {
     "name": "stdout",
     "output_type": "stream",
     "text": [
      "Original array:\n",
      "[[10 20 30]\n",
      " [20 40 50]]\n",
      "New flattened array:\n",
      "[10 20 30 20 40 50]\n"
     ]
    }
   ],
   "source": [
    "\n",
    "def create_flattened_array(array):\n",
    "    \n",
    "    \n",
    "    \"\"\"\n",
    "    Creates a contiguous flattened array from a 2D NumPy array.\n",
    "\n",
    "    Parameters:\n",
    "        array (numpy.ndarray): The 2D NumPy array to flatten.\n",
    "    \n",
    "    Returns:\n",
    "        numpy.ndarray: The flattened array.\n",
    "    \"\"\"\n",
    "    \n",
    "    \n",
    "    return array.flatten()\n",
    "\n",
    "\n",
    "\n",
    "def main():\n",
    "\n",
    "    \n",
    "    original_array = np.array([[10, 20, 30], [20, 40, 50]])\n",
    "    print(\"Original array:\")\n",
    "    print(original_array)\n",
    "\n",
    "    flattened_array = create_flattened_array(original_array)\n",
    "    print(\"New flattened array:\")\n",
    "    print(flattened_array)\n",
    "\n",
    "if __name__ == \"__main__\":\n",
    "    main()\n"
   ]
  },
  {
   "cell_type": "markdown",
   "metadata": {},
   "source": [
    "17. Write a Python program to change the data type of an array.\n"
   ]
  },
  {
   "cell_type": "code",
   "execution_count": 20,
   "metadata": {},
   "outputs": [
    {
     "name": "stdout",
     "output_type": "stream",
     "text": [
      "Original array:\n",
      "[[ 2  4  6]\n",
      " [ 6  8 10]]\n",
      "Data type of the array x is: int32\n",
      "New Type: <class 'numpy.float64'>\n",
      "[[ 2.  4.  6.]\n",
      " [ 6.  8. 10.]]\n"
     ]
    }
   ],
   "source": [
    "\n",
    "\n",
    "def force_change_data_type(array, new_type):\n",
    "    \n",
    "    \n",
    "    \"\"\"\n",
    "    Forcefully changes the data type of each element in a NumPy array.\n",
    "\n",
    "    Parameters:\n",
    "        array (numpy.ndarray): The original NumPy array.\n",
    "        new_type (type): The new data type for the array elements.\n",
    "    \n",
    "    Returns:\n",
    "        numpy.ndarray: The array with elements cast to the new data type.\n",
    "    \"\"\"\n",
    "    \n",
    "    \n",
    "    new_array = np.empty(array.shape, dtype=new_type)\n",
    "    \n",
    "    for i in range(array.shape[0]):\n",
    "        for j in range(array.shape[1]):\n",
    "            new_array[i, j] = new_type(array[i, j])\n",
    "    \n",
    "    return new_array\n",
    "\n",
    "\n",
    "\n",
    "def main():\n",
    "\n",
    "    original_array = np.array([[2, 4, 6], [6, 8, 10]])\n",
    "    print(\"Original array:\")\n",
    "    print(original_array)\n",
    "    \n",
    "    print(\"Data type of the array x is:\", original_array.dtype)\n",
    "    \n",
    "    new_type = np.float64\n",
    "    new_array = force_change_data_type(original_array, new_type)\n",
    "    \n",
    "    print(\"New Type:\", new_type)\n",
    "    print(new_array)\n",
    "\n",
    "if __name__ == \"__main__\":\n",
    "    main()\n"
   ]
  },
  {
   "cell_type": "markdown",
   "metadata": {},
   "source": [
    "18. Write a Python program to create a 3-D array with ones on a diagonal and zeros\n",
    "elsewhere."
   ]
  },
  {
   "cell_type": "code",
   "execution_count": 21,
   "metadata": {},
   "outputs": [
    {
     "name": "stdout",
     "output_type": "stream",
     "text": [
      "3-D Array with ones on the diagonal and zeros elsewhere:\n",
      "[[[1 0 0 0]\n",
      "  [0 0 0 0]\n",
      "  [0 0 0 0]\n",
      "  [0 0 0 0]]\n",
      "\n",
      " [[0 0 0 0]\n",
      "  [0 1 0 0]\n",
      "  [0 0 0 0]\n",
      "  [0 0 0 0]]\n",
      "\n",
      " [[0 0 0 0]\n",
      "  [0 0 0 0]\n",
      "  [0 0 1 0]\n",
      "  [0 0 0 0]]\n",
      "\n",
      " [[0 0 0 0]\n",
      "  [0 0 0 0]\n",
      "  [0 0 0 0]\n",
      "  [0 0 0 1]]]\n"
     ]
    }
   ],
   "source": [
    "\n",
    "def create_3d_diagonal_array(shape):\n",
    "    \n",
    "    \n",
    "    \"\"\"\n",
    "    description : \n",
    "        Creates a 3-D array with ones on the diagonal and zeros elsewhere.\n",
    "\n",
    "    Parameters:\n",
    "        shape (tuple): The shape of the 3-D array. Must be a tuple of three integers (depth, rows, columns).\n",
    "    \n",
    "    Returns:\n",
    "        numpy.ndarray: The 3-D array with ones on the diagonal and zeros elsewhere.\n",
    "    \"\"\"\n",
    "    depth, rows, cols = shape\n",
    "    array = np.zeros((depth, rows, cols), dtype=int)\n",
    "    \n",
    "    \n",
    "    for d in range(min(depth, rows, cols)):\n",
    "        array[d, d, d] = 1\n",
    "    \n",
    "    return array\n",
    "\n",
    "def main():\n",
    "  \n",
    "    shape = (4, 4, 4)  \n",
    "    \n",
    "\n",
    "    diagonal_array = create_3d_diagonal_array(shape)\n",
    "    \n",
    "    \n",
    "    print(\"3-D Array with ones on the diagonal and zeros elsewhere:\")\n",
    "    print(diagonal_array)\n",
    "\n",
    "if __name__ == \"__main__\":\n",
    "    main()\n"
   ]
  },
  {
   "cell_type": "markdown",
   "metadata": {},
   "source": [
    "19. Write a Python program to create an array which looks like below array.\n",
    "Expected Output:\n",
    "[[ 0. 0. 0.]\n",
    "[ 1. 0. 0.]\n",
    "[ 1. 1. 0.]\n",
    "[ 1. 1. 1.]]"
   ]
  },
  {
   "cell_type": "code",
   "execution_count": 22,
   "metadata": {},
   "outputs": [
    {
     "name": "stdout",
     "output_type": "stream",
     "text": [
      "2-D Array with a triangular pattern of ones:\n",
      "[[1. 0. 0. 0.]\n",
      " [1. 1. 0. 0.]\n",
      " [1. 1. 1. 0.]\n",
      " [1. 1. 1. 1.]]\n"
     ]
    }
   ],
   "source": [
    "\n",
    "def create_triangular_array(rows):\n",
    "    \n",
    "    \n",
    "    \"\"\"\n",
    "    Creates a 2-D array with an increasing number of ones in each row, forming a triangular shape.\n",
    "\n",
    "    Parameters:\n",
    "        rows (int): The number of rows in the array.\n",
    "    \n",
    "    Returns:\n",
    "        numpy.ndarray: The 2-D array with a triangular pattern of ones.\n",
    "    \"\"\"\n",
    "    \n",
    "    \n",
    "    array = np.zeros((rows, rows), dtype=float)\n",
    "    \n",
    "    for i in range(rows):\n",
    "        array[i, :i+1] = 1\n",
    "    \n",
    "    return array\n",
    "\n",
    "def main():\n",
    "\n",
    "    rows = 4 \n",
    "    \n",
    "    triangular_array = create_triangular_array(rows)\n",
    "    \n",
    "    print(\"2-D Array with a triangular pattern of ones:\")\n",
    "    print(triangular_array)\n",
    "\n",
    "if __name__ == \"__main__\":\n",
    "    main()\n",
    "\n"
   ]
  },
  {
   "cell_type": "markdown",
   "metadata": {},
   "source": [
    "20. Write a Python program to concatenate two 2-dimensional arrays.\n"
   ]
  },
  {
   "cell_type": "code",
   "execution_count": 23,
   "metadata": {},
   "outputs": [
    {
     "name": "stdout",
     "output_type": "stream",
     "text": [
      "Concatenated 2-D Array:\n",
      "[[ 0  1  3  0  2  4]\n",
      " [ 5  7  9  6  8 10]]\n"
     ]
    }
   ],
   "source": [
    "\n",
    "def concatenate_arrays(array1, array2):\n",
    "    \n",
    "    \n",
    "    \"\"\"\n",
    "    Concatenates two 2-D arrays horizontally (along columns).\n",
    "\n",
    "    Parameters:\n",
    "        array1 (numpy.ndarray): The first 2-D array.\n",
    "        array2 (numpy.ndarray): The second 2-D array to concatenate with the first one.\n",
    "    \n",
    "    Returns:\n",
    "        numpy.ndarray: The concatenated 2-D array.\n",
    "    \"\"\"\n",
    "    \n",
    "    \n",
    "    return np.concatenate((array1, array2), axis=1)\n",
    "\n",
    "def main():\n",
    "  \n",
    "    array1 = np.array([[0, 1, 3], [5, 7, 9]])\n",
    "    array2 = np.array([[0, 2, 4], [6, 8, 10]])\n",
    "    \n",
    "    result = concatenate_arrays(array1, array2)\n",
    "    \n",
    "    print(\"Concatenated 2-D Array:\")\n",
    "    print(result)\n",
    "\n",
    "if __name__ == \"__main__\":\n",
    "    main()\n"
   ]
  },
  {
   "cell_type": "markdown",
   "metadata": {},
   "source": [
    "21. Write a Python program to make an array immutable (read-only)."
   ]
  },
  {
   "cell_type": "code",
   "execution_count": 24,
   "metadata": {},
   "outputs": [
    {
     "name": "stdout",
     "output_type": "stream",
     "text": [
      "Try to change the value of the first element:\n",
      "Error: assignment destination is read-only\n"
     ]
    }
   ],
   "source": [
    "\n",
    "\n",
    "def make_array_read_only_and_test():\n",
    "    \n",
    "    \n",
    "    \"\"\"\n",
    "    Description:\n",
    "        Creates a NumPy array with 10 elements, sets it to read-only, and attempts to modify it.\n",
    "    \n",
    "    Parameters:\n",
    "        None\n",
    "    \n",
    "    Returns:\n",
    "        None\n",
    "    \"\"\"\n",
    "    \n",
    "    \n",
    "    x = np.zeros(10)\n",
    "    \n",
    "    x.flags.writeable = False\n",
    "\n",
    "\n",
    "    \n",
    "    print(\"Try to change the value of the first element:\")\n",
    "    \n",
    "    try:\n",
    "        x[0] = 1  \n",
    "    except ValueError as e:\n",
    "        print(f\"Error: {e}\")\n",
    "\n",
    "\n",
    "\n",
    "def main():\n",
    "\n",
    "    make_array_read_only_and_test()\n",
    "\n",
    "if __name__ == \"__main__\":\n",
    "    main()\n"
   ]
  },
  {
   "cell_type": "markdown",
   "metadata": {},
   "source": [
    "22. Write a Python program to create an array of (3, 4) shape, multiply every element\n",
    "value by 3 and display the new array."
   ]
  },
  {
   "cell_type": "code",
   "execution_count": 25,
   "metadata": {},
   "outputs": [
    {
     "name": "stdout",
     "output_type": "stream",
     "text": [
      "Reshaped Array:\n",
      "[[ 3  6  9 12]\n",
      " [15 18 21 24]\n",
      " [27 30 33 36]]\n"
     ]
    }
   ],
   "source": [
    "\n",
    "def create_and_transform_array():\n",
    "    \n",
    "    \n",
    "    \"\"\"\n",
    "    Description:\n",
    "        Creates a list of integers from 1 to 12, converts it to a NumPy array, multiplies the array by 3,\n",
    "        reshapes it into a 3x4 array, and prints the result.\n",
    "    \n",
    "    Parameters:\n",
    "        None\n",
    "    \n",
    "    Returns:\n",
    "        None\n",
    "    \"\"\"\n",
    "    \n",
    "    \n",
    "    mylist = [i for i in range(1, 13)]\n",
    "    \n",
    "    array_2d = np.array(mylist)\n",
    "    \n",
    "    multiplied_array = array_2d * 3\n",
    "    \n",
    "    reshaped_array = multiplied_array.reshape(3, 4)\n",
    "    \n",
    "    print(\"Reshaped Array:\")\n",
    "    print(reshaped_array)\n",
    "\n",
    "\n",
    "\n",
    "def main():\n",
    "\n",
    "    create_and_transform_array()\n",
    "\n",
    "if __name__ == \"__main__\":\n",
    "    main()\n"
   ]
  },
  {
   "cell_type": "markdown",
   "metadata": {},
   "source": [
    "23. Write a Python program to convert a NumPy array into Python list structure."
   ]
  },
  {
   "cell_type": "code",
   "execution_count": 26,
   "metadata": {},
   "outputs": [
    {
     "name": "stdout",
     "output_type": "stream",
     "text": [
      "Original array elements:\n",
      "[[0 1]\n",
      " [2 3]\n",
      " [4 5]]\n",
      "Array to list:\n",
      "[[0, 1], [2, 3], [4, 5]]\n"
     ]
    }
   ],
   "source": [
    "\n",
    "def convert_array_to_list(array):\n",
    "    \n",
    "    \n",
    "    \"\"\"\n",
    "    Description:\n",
    "        Converts a NumPy array to a Python list structure.\n",
    "    \n",
    "    Parameters:\n",
    "        array (np.ndarray): The NumPy array to be converted.\n",
    "    \n",
    "    Returns:\n",
    "        list: The converted Python list.\n",
    "    \"\"\"\n",
    "    \n",
    "    \n",
    "    return array.tolist()\n",
    "\n",
    "\n",
    "def main():\n",
    "\n",
    "    array = np.array([[0, 1], [2, 3], [4, 5]])\n",
    "    \n",
    "    print(\"Original array elements:\")\n",
    "    print(array)\n",
    "    \n",
    "    list_structure = convert_array_to_list(array)\n",
    "    \n",
    "    print(\"Array to list:\")\n",
    "    print(list_structure)\n",
    "\n",
    "if __name__ == \"__main__\":\n",
    "    main()\n"
   ]
  },
  {
   "cell_type": "markdown",
   "metadata": {},
   "source": [
    "24. Write a Python program to convert a NumPy array into Python list structure."
   ]
  },
  {
   "cell_type": "code",
   "execution_count": 27,
   "metadata": {},
   "outputs": [
    {
     "name": "stdout",
     "output_type": "stream",
     "text": [
      "Original array elements:\n",
      "[0.26153123 0.52760141 0.5718299  0.5927067  0.7831874  0.69746349\n",
      " 0.35399976 0.99469633 0.0694458  0.54711478]\n",
      "Print array values with precision 3:\n",
      "['0.262', '0.528', '0.572', '0.593', '0.783', '0.697', '0.354', '0.995', '0.069', '0.547']\n"
     ]
    }
   ],
   "source": [
    "\n",
    "\n",
    "def print_array_with_precision(array, precision):\n",
    "    \n",
    "    \n",
    "    \"\"\"\n",
    "    Description:\n",
    "        Prints the NumPy array values with a specified precision using string formatting.\n",
    "    \n",
    "    Parameters:\n",
    "        array (np.ndarray): The NumPy array to print.\n",
    "        precision (int): The number of decimal places to display.\n",
    "    \n",
    "    Returns:\n",
    "        None\n",
    "    \"\"\"\n",
    "    \n",
    "    \n",
    "    formatted_array = [f\"{value:.{precision}f}\" for value in array]\n",
    "    \n",
    "    print(formatted_array)\n",
    "\n",
    "\n",
    "\n",
    "def main():\n",
    "\n",
    "    array = np.array([0.26153123, 0.52760141, 0.5718299, 0.5927067, 0.7831874, \n",
    "                      0.69746349, 0.35399976, 0.99469633, 0.0694458, 0.54711478])\n",
    "    \n",
    "    print(\"Original array elements:\")\n",
    "    print(array)\n",
    "    \n",
    "    print(\"Print array values with precision 3:\")\n",
    "    print_array_with_precision(array, 3)\n",
    "\n",
    "if __name__ == \"__main__\":\n",
    "    main()\n"
   ]
  },
  {
   "cell_type": "markdown",
   "metadata": {},
   "source": [
    "26.Write a Python program to how to add an extra column to an numpy array."
   ]
  },
  {
   "cell_type": "code",
   "execution_count": 28,
   "metadata": {},
   "outputs": [
    {
     "name": "stdout",
     "output_type": "stream",
     "text": [
      "Original array:\n",
      "[[1 2 3]\n",
      " [4 5 6]\n",
      " [7 8 9]]\n",
      "Array after adding the new column:\n",
      "[[ 1  2  3 10]\n",
      " [ 4  5  6 11]\n",
      " [ 7  8  9 12]]\n"
     ]
    }
   ],
   "source": [
    "\n",
    "\n",
    "def add_column_to_array(array, new_column):\n",
    "    \n",
    "    \"\"\"\n",
    "    \n",
    "    Description : \n",
    "        Adds an extra column to a NumPy array using numpy.append.\n",
    "\n",
    "    Parameters:\n",
    "        array (numpy.ndarray): The original 2D array to which the column will be added.\n",
    "        new_column (numpy.ndarray): The new column to be added.\n",
    "\n",
    "    Returns:\n",
    "        numpy.ndarray: The array with the new column added.\n",
    "        \n",
    "        \n",
    "    \"\"\"\n",
    "    new_column = new_column.reshape(-1, 1)\n",
    "    \n",
    "    updated_array = np.append(array, new_column, axis=1)\n",
    "    \n",
    "    return updated_array\n",
    "\n",
    "\n",
    "\n",
    "def main():\n",
    "    original_array = np.array([[1, 2, 3], [4, 5, 6], [7, 8, 9]])\n",
    "    print(\"Original array:\")\n",
    "    print(original_array)\n",
    "    \n",
    "    new_column = np.array([10, 11, 12])\n",
    "    \n",
    "    updated_array = add_column_to_array(original_array, new_column)\n",
    "    \n",
    "    print(\"Array after adding the new column:\")\n",
    "    print(updated_array)\n",
    "\n",
    "if __name__ == \"__main__\":\n",
    "    main()"
   ]
  },
  {
   "cell_type": "markdown",
   "metadata": {},
   "source": [
    "27. Write a Python program to remove specific elements in a numpy array."
   ]
  },
  {
   "cell_type": "code",
   "execution_count": 29,
   "metadata": {},
   "outputs": [
    {
     "name": "stdout",
     "output_type": "stream",
     "text": [
      "Array1: [ 0 10 20 40 60]\n",
      "Array2: [10 30 40]\n",
      "Common values between two arrays:\n",
      "[10 40]\n"
     ]
    }
   ],
   "source": [
    "\n",
    "\n",
    "def find_common_values(array1, array2):\n",
    "    \n",
    "    \n",
    "    \"\"\"\n",
    "    Finds common values between two numpy arrays.\n",
    "\n",
    "    Parameters:\n",
    "        array1 (numpy.ndarray): The first array.\n",
    "        array2 (numpy.ndarray): The second array.\n",
    "\n",
    "    Returns:\n",
    "        numpy.ndarray: An array containing the common values.\n",
    "    \"\"\"\n",
    "    \n",
    "    \n",
    "    common_values = []\n",
    "    for value in array1:\n",
    "        if value in array2 and value not in common_values:\n",
    "            common_values.append(value)\n",
    "    return np.array(common_values)\n",
    "\n",
    "\n",
    "\n",
    "def main():\n",
    "\n",
    "    array1 = np.array([0, 10, 20, 40, 60])\n",
    "    array2 = np.array([10, 30, 40])\n",
    "\n",
    "    \n",
    "    common_values = find_common_values(array1, array2)\n",
    "\n",
    "    print(f\"Array1: {array1}\")\n",
    "    print(f\"Array2: {array2}\")\n",
    "    print(\"Common values between two arrays:\")\n",
    "    print(common_values)\n",
    "\n",
    "if __name__ == \"__main__\":\n",
    "    main()\n"
   ]
  },
  {
   "cell_type": "code",
   "execution_count": null,
   "metadata": {},
   "outputs": [],
   "source": []
  }
 ],
 "metadata": {
  "kernelspec": {
   "display_name": "Python 3",
   "language": "python",
   "name": "python3"
  },
  "language_info": {
   "codemirror_mode": {
    "name": "ipython",
    "version": 3
   },
   "file_extension": ".py",
   "mimetype": "text/x-python",
   "name": "python",
   "nbconvert_exporter": "python",
   "pygments_lexer": "ipython3",
   "version": "3.12.2"
  }
 },
 "nbformat": 4,
 "nbformat_minor": 2
}
